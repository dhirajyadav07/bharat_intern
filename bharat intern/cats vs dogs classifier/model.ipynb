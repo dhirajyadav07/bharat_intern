{
 "cells": [
  {
   "cell_type": "markdown",
   "id": "a93a0897-9243-4c68-af23-ed7476275fe8",
   "metadata": {},
   "source": [
    "# cats vs dogs classifier"
   ]
  },
  {
   "cell_type": "code",
   "execution_count": null,
   "id": "1768d6c1-5cdd-45a0-a282-3974ed6015b3",
   "metadata": {},
   "outputs": [],
   "source": [
    "!mkdir -p ~/.kaggle\n",
    "!cp kaggle.json ~/.kaggle/"
   ]
  },
  {
   "cell_type": "code",
   "execution_count": null,
   "id": "4790d763-296d-478f-b6a3-6d0bbc088286",
   "metadata": {},
   "outputs": [],
   "source": [
    "!kaggle datasets download -d salader/dogs-vs-cats"
   ]
  },
  {
   "cell_type": "code",
   "execution_count": null,
   "id": "1b55ded2-d9c7-45ca-be9c-4fe74706ecc2",
   "metadata": {},
   "outputs": [],
   "source": [
    "import zipfile\n",
    "zip_ref = zipfile.ZipFile('/content/dogs-vs-cats.zip')\n",
    "zip_ref.extractall('/content')\n",
    "zip_ref.close()"
   ]
  },
  {
   "cell_type": "code",
   "execution_count": null,
   "id": "28f7610f-c4dc-4984-9deb-64f78f28c82d",
   "metadata": {},
   "outputs": [],
   "source": [
    "import tensorflow as tf\n",
    "from tensorflow import keras\n",
    "from keras import Sequential\n",
    "from keras.layers import Dense,Conv2D,MaxPooling2D,Flatten,BatchNormalization,Dropout"
   ]
  },
  {
   "cell_type": "code",
   "execution_count": null,
   "id": "57d90936-c7a4-4765-a7dd-dfa4b4ad1d78",
   "metadata": {},
   "outputs": [],
   "source": [
    "# generators - create batches\n",
    "train_ds=keras.utils.image_dataset_from_directory(\n",
    "directory='/content/train',\n",
    "labels='inferred',\n",
    "label_mode='int',\n",
    "batch_size=32,\n",
    "image_size=(256,256)\n",
    ")\n",
    "\n",
    "validation_ds=keras.utils.image_dataset_from_directory(\n",
    "directory='/content/test',\n",
    "labels='inferred',\n",
    "label_mode='int',\n",
    "batch_size=32,\n",
    "image_size=(256,256)\n",
    ")"
   ]
  },
  {
   "cell_type": "code",
   "execution_count": null,
   "id": "3802179d-5ccf-4fd2-b2aa-1be9e05b3622",
   "metadata": {},
   "outputs": [],
   "source": [
    "#normalize\n",
    "def process(image,lable):\n",
    "    image=tf.cast(image/255. ,tf.float32)\n",
    "    return image,lable\n",
    "train_ds= train_ds.map(process)\n",
    "validation_ds=validation_ds.map(process)"
   ]
  },
  {
   "cell_type": "code",
   "execution_count": null,
   "id": "ae718ade-4213-4f64-be70-9ce2570d227c",
   "metadata": {},
   "outputs": [],
   "source": [
    "model=Sequential()\n",
    "model.add(Conv2D(32,kernel_size=(3,3),padding='valid',activation='relu',input_shape=(256,256,3)))\n",
    "model.add(BatchNormalization())\n",
    "model.add(MaxPooling2D(pool_size=(2,2),strides=2,padding='valid'))\n",
    "model.add(Conv2D(64,kernel_size=(3,3),padding='valid',activation='relu'))\n",
    "model.add(BatchNormalization())\n",
    "model.add(MaxPooling2D(pool_size=(2,2),strides=2,padding='valid'))\n",
    "model.add(Conv2D(128,kernel_size=(3,3),padding='valid',activation='relu'))\n",
    "model.add(BatchNormalization())\n",
    "model.add(MaxPooling2D(pool_size=(2,2),strides=2,padding='valid'))\n",
    "model.add(Flatten())\n",
    "model.add(Dense(128,activation='relu'))\n",
    "model.add(Dropout(0.1))\n",
    "model.add(Dense(64,activation='relu'))\n",
    "model.add(Dropout(0.1))\n",
    "model.add(Dense(1,activation='sigmoid'))"
   ]
  },
  {
   "cell_type": "code",
   "execution_count": null,
   "id": "65e874ce-be01-4d93-ad3b-1fcff95d4def",
   "metadata": {},
   "outputs": [],
   "source": [
    "model.summary()"
   ]
  },
  {
   "cell_type": "code",
   "execution_count": null,
   "id": "55321d13-8246-4b9c-b730-ddb65755b8f9",
   "metadata": {},
   "outputs": [],
   "source": [
    "model.compile(optimizer='adam',loss='binary_crossentropy',metrics=['accuracy'])"
   ]
  },
  {
   "cell_type": "code",
   "execution_count": null,
   "id": "9b62403b-4caa-4967-866b-b4ce1a90b1d9",
   "metadata": {},
   "outputs": [],
   "source": [
    "history=model.fit(train_ds,epochs=10,validation_data=validation_ds)"
   ]
  },
  {
   "cell_type": "code",
   "execution_count": 1,
   "id": "b2dc25f6-6514-476a-bf3b-3fca55e271f6",
   "metadata": {},
   "outputs": [],
   "source": [
    "import matplotlib.pyplot as plt\n",
    "plt.plot(history.history['accuracy'],color='red',label='train')\n",
    "plt.plot(history.history['val_accuracy'],color='blue',label='validation')\n",
    "plt.legend()\n",
    "plt.show()\n"
   ]
  },
  {
   "cell_type": "code",
   "execution_count": null,
   "id": "ea030bf4-947e-4126-b19c-19dc2281ffce",
   "metadata": {},
   "outputs": [],
   "source": [
    "plt.plot(history.history['loss'],color='red',label='train')\n",
    "plt.plot(history.history['val_loss'],color='blue',label='validation')\n",
    "plt.legend()\n",
    "plt.show()"
   ]
  },
  {
   "cell_type": "code",
   "execution_count": null,
   "id": "174bf45a-d545-4565-9878-06a490fa7396",
   "metadata": {},
   "outputs": [],
   "source": [
    "#need to reduce complexity\n",
    "# add more data\n",
    "#reducing complexity"
   ]
  },
  {
   "cell_type": "code",
   "execution_count": null,
   "id": "7b084dbf-2705-481f-8d46-39cc4b193912",
   "metadata": {},
   "outputs": [],
   "source": [
    "import cv2"
   ]
  },
  {
   "cell_type": "code",
   "execution_count": null,
   "id": "2847a4fb-1b28-4936-8113-096a2e08c2e4",
   "metadata": {},
   "outputs": [],
   "source": [
    "test_image1 =cv2.imread('/content/cat.jpeg')"
   ]
  },
  {
   "cell_type": "code",
   "execution_count": null,
   "id": "b340a6fd-0595-4f5a-bfbd-0d9207929201",
   "metadata": {},
   "outputs": [],
   "source": [
    "plt.imshow(test_image1)"
   ]
  },
  {
   "cell_type": "code",
   "execution_count": null,
   "id": "4057cc38-4a5d-44cc-bf1e-b130ecd31834",
   "metadata": {},
   "outputs": [],
   "source": [
    "test_image1.shape"
   ]
  },
  {
   "cell_type": "code",
   "execution_count": null,
   "id": "c66f108c-501e-496f-8984-13e03dee7c12",
   "metadata": {},
   "outputs": [],
   "source": [
    "test_image1=cv2.resize(test_image1,(256,256))"
   ]
  },
  {
   "cell_type": "code",
   "execution_count": null,
   "id": "2b1ec27b-895a-466c-9314-d4ae8e0a9441",
   "metadata": {},
   "outputs": [],
   "source": [
    "test_input1=test_image1.reshape((1,256,256,3))"
   ]
  },
  {
   "cell_type": "code",
   "execution_count": null,
   "id": "8ca71697-5262-469a-8b54-1772400b02bc",
   "metadata": {},
   "outputs": [],
   "source": [
    "model.predict(test_input1)"
   ]
  },
  {
   "cell_type": "code",
   "execution_count": null,
   "id": "a0bffa58-8025-4b11-a4b4-1a79310f4864",
   "metadata": {},
   "outputs": [],
   "source": []
  }
 ],
 "metadata": {
  "kernelspec": {
   "display_name": "Python 3 (ipykernel)",
   "language": "python",
   "name": "python3"
  },
  "language_info": {
   "codemirror_mode": {
    "name": "ipython",
    "version": 3
   },
   "file_extension": ".py",
   "mimetype": "text/x-python",
   "name": "python",
   "nbconvert_exporter": "python",
   "pygments_lexer": "ipython3",
   "version": "3.9.12"
  }
 },
 "nbformat": 4,
 "nbformat_minor": 5
}
